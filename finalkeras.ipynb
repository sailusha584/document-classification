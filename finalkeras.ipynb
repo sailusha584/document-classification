{
 "cells": [
  {
   "cell_type": "code",
   "execution_count": 1,
   "metadata": {
    "colab": {
     "base_uri": "https://localhost:8080/",
     "height": 34
    },
    "colab_type": "code",
    "executionInfo": {
     "elapsed": 2232,
     "status": "ok",
     "timestamp": 1555650737196,
     "user": {
      "displayName": "sailusha pvsn",
      "photoUrl": "",
      "userId": "15498208439424985552"
     },
     "user_tz": -330
    },
    "id": "FofK0t9XgVZe",
    "outputId": "b1fb1791-51f0-4777-9482-15a5abaf6a1e"
   },
   "outputs": [
    {
     "name": "stderr",
     "output_type": "stream",
     "text": [
      "C:\\Users\\user\\Anaconda3\\lib\\site-packages\\h5py\\__init__.py:36: FutureWarning: Conversion of the second argument of issubdtype from `float` to `np.floating` is deprecated. In future, it will be treated as `np.float64 == np.dtype(float).type`.\n",
      "  from ._conv import register_converters as _register_converters\n",
      "Using TensorFlow backend.\n"
     ]
    }
   ],
   "source": [
    "\n",
    "\n",
    "import tensorflow as tf\n",
    "import keras\n",
    "from keras.utils import np_utils\n",
    "from keras.models import Sequential\n",
    "from keras.layers import Conv2D,MaxPooling2D,Dense,Flatten,Dropout,BatchNormalization,Activation\n",
    "from keras.utils import to_categorical\n",
    "\n",
    "import numpy as np\n",
    "import pandas as pd\n",
    "import matplotlib.pyplot as plt\n",
    "import seaborn as sns\n",
    "\n",
    "import os\n",
    "import cv2\n",
    "from PIL import Image"
   ]
  },
  {
   "cell_type": "code",
   "execution_count": 0,
   "metadata": {
    "colab": {
     "base_uri": "https://localhost:8080/",
     "height": 54
    },
    "colab_type": "code",
    "executionInfo": {
     "elapsed": 1029,
     "status": "ok",
     "timestamp": 1555652579365,
     "user": {
      "displayName": "sailusha pvsn",
      "photoUrl": "",
      "userId": "15498208439424985552"
     },
     "user_tz": -330
    },
    "id": "uCHgpIlOhPaw",
    "outputId": "03049ea6-9735-4dc0-bd02-2cd05f617e58"
   },
   "outputs": [
    {
     "name": "stdout",
     "output_type": "stream",
     "text": [
      "Drive already mounted at /content/gdrive; to attempt to forcibly remount, call drive.mount(\"/content/gdrive\", force_remount=True).\n"
     ]
    }
   ],
   "source": [
    "from google.colab import drive\n",
    "drive.mount('/content/gdrive')"
   ]
  },
  {
   "cell_type": "code",
   "execution_count": 2,
   "metadata": {
    "colab": {},
    "colab_type": "code",
    "id": "i_76TZzpg4Rh"
   },
   "outputs": [],
   "source": [
    "from keras.applications.vgg16 import VGG16\n",
    "from keras.utils.vis_utils import plot_model\n",
    "from keras import backend as K"
   ]
  },
  {
   "cell_type": "code",
   "execution_count": 0,
   "metadata": {
    "colab": {
     "base_uri": "https://localhost:8080/",
     "height": 34
    },
    "colab_type": "code",
    "executionInfo": {
     "elapsed": 810,
     "status": "ok",
     "timestamp": 1554733746816,
     "user": {
      "displayName": "sailusha pvsn",
      "photoUrl": "",
      "userId": "15498208439424985552"
     },
     "user_tz": -330
    },
    "id": "yHqrqksuix6Z",
    "outputId": "9ab15701-8ca6-428f-bfc6-ad6971672c80"
   },
   "outputs": [
    {
     "data": {
      "text/plain": [
       "'/home/aceec/Downloads'"
      ]
     },
     "execution_count": 5,
     "metadata": {
      "tags": []
     },
     "output_type": "execute_result"
    }
   ],
   "source": [
    "import os\n",
    "os.getcwd()"
   ]
  },
  {
   "cell_type": "code",
   "execution_count": 0,
   "metadata": {
    "colab": {},
    "colab_type": "code",
    "id": "mnvaE16zjTue"
   },
   "outputs": [],
   "source": [
    "#tr=np.load('./gdrive/My Drive/tr5.npy')\n",
    "#labels=np.load('./gdrive/My Drive/label5.npy')"
   ]
  },
  {
   "cell_type": "code",
   "execution_count": 0,
   "metadata": {
    "colab": {},
    "colab_type": "code",
    "id": "-PcWXIOrg8w3"
   },
   "outputs": [],
   "source": [
    "tr=np.load('./tr5.npy')\n",
    "labels=np.load('./label5.npy')"
   ]
  },
  {
   "cell_type": "code",
   "execution_count": 0,
   "metadata": {
    "colab": {},
    "colab_type": "code",
    "id": "IcZbeUItsJsE"
   },
   "outputs": [],
   "source": [
    "#tr1=np.load('./gdrive/My Drive/tr.npy')\n",
    "#labels1=np.load('./gdrive/My Drive/Label.npy')"
   ]
  },
  {
   "cell_type": "code",
   "execution_count": 0,
   "metadata": {
    "colab": {},
    "colab_type": "code",
    "id": "ejlEMSLtjND4"
   },
   "outputs": [],
   "source": [
    "from sklearn.model_selection import train_test_split\n",
    "\n",
    "train_x , x , train_y , y = train_test_split(tr , labels , \n",
    "                                            test_size = 0.4 ,\n",
    "                                            random_state = 111)\n",
    "\n",
    "eval_x , test_x , eval_y , test_y = train_test_split(x , y , \n",
    "                                                    test_size = 0.5 , \n",
    "                                                    random_state = 111)"
   ]
  },
  {
   "cell_type": "code",
   "execution_count": 0,
   "metadata": {
    "colab": {
     "base_uri": "https://localhost:8080/",
     "height": 34
    },
    "colab_type": "code",
    "executionInfo": {
     "elapsed": 2839,
     "status": "ok",
     "timestamp": 1554736141840,
     "user": {
      "displayName": "sailusha pvsn",
      "photoUrl": "",
      "userId": "15498208439424985552"
     },
     "user_tz": -330
    },
    "id": "H-ZhwQtLrUND",
    "outputId": "f2b4f074-9d7b-4d3e-d9bc-996c1d09bff4"
   },
   "outputs": [
    {
     "data": {
      "text/plain": [
       "(9600, 224, 224, 3)"
      ]
     },
     "execution_count": 8,
     "metadata": {
      "tags": []
     },
     "output_type": "execute_result"
    }
   ],
   "source": [
    "train_x.shape"
   ]
  },
  {
   "cell_type": "code",
   "execution_count": 0,
   "metadata": {
    "colab": {
     "base_uri": "https://localhost:8080/",
     "height": 34
    },
    "colab_type": "code",
    "executionInfo": {
     "elapsed": 1153,
     "status": "ok",
     "timestamp": 1554972842038,
     "user": {
      "displayName": "vijaya Laxmi Peddibhotla",
      "photoUrl": "",
      "userId": "06635110081499938430"
     },
     "user_tz": -330
    },
    "id": "SSt2FaE3mofJ",
    "outputId": "515c1fb5-e7d7-4e8f-9293-9b905d632793"
   },
   "outputs": [
    {
     "data": {
      "text/plain": [
       "(19183, 73, 224, 3)"
      ]
     },
     "execution_count": 10,
     "metadata": {
      "tags": []
     },
     "output_type": "execute_result"
    }
   ],
   "source": [
    "train_x.shape"
   ]
  },
  {
   "cell_type": "code",
   "execution_count": 0,
   "metadata": {
    "colab": {
     "base_uri": "https://localhost:8080/",
     "height": 34
    },
    "colab_type": "code",
    "executionInfo": {
     "elapsed": 5975,
     "status": "ok",
     "timestamp": 1554736404365,
     "user": {
      "displayName": "sailusha pvsn",
      "photoUrl": "",
      "userId": "15498208439424985552"
     },
     "user_tz": -330
    },
    "id": "p5g-ZzCntP0O",
    "outputId": "775ddad4-f4da-4ccc-818a-66ce1b68731a"
   },
   "outputs": [
    {
     "data": {
      "text/plain": [
       "(3200, 224, 224, 3)"
      ]
     },
     "execution_count": 9,
     "metadata": {
      "tags": []
     },
     "output_type": "execute_result"
    }
   ],
   "source": [
    "test_x.shape"
   ]
  },
  {
   "cell_type": "code",
   "execution_count": 0,
   "metadata": {
    "colab": {
     "base_uri": "https://localhost:8080/",
     "height": 34
    },
    "colab_type": "code",
    "executionInfo": {
     "elapsed": 1273,
     "status": "ok",
     "timestamp": 1554876626421,
     "user": {
      "displayName": "sailusha pvsn",
      "photoUrl": "",
      "userId": "15498208439424985552"
     },
     "user_tz": -330
    },
    "id": "_Hr_6Ow6tSfb",
    "outputId": "ec2cd8f3-7ead-4ed1-d8cf-1d2ea5f4f8bc"
   },
   "outputs": [
    {
     "data": {
      "text/plain": [
       "(3200, 224, 224, 3)"
      ]
     },
     "execution_count": 25,
     "metadata": {
      "tags": []
     },
     "output_type": "execute_result"
    }
   ],
   "source": [
    "eval_x.shape"
   ]
  },
  {
   "cell_type": "code",
   "execution_count": 0,
   "metadata": {
    "colab": {},
    "colab_type": "code",
    "id": "Cy5BgGKTw63F"
   },
   "outputs": [],
   "source": [
    "img_rows=224\n",
    "img_cols=224\n",
    "num_classes=16\n",
    "epochs = 10\n",
    "batch_size = 64"
   ]
  },
  {
   "cell_type": "code",
   "execution_count": 0,
   "metadata": {
    "colab": {},
    "colab_type": "code",
    "id": "DDLL85xStnvc"
   },
   "outputs": [],
   "source": [
    "if K.image_data_format() == 'channels_first':\n",
    "    train_x = train_x.reshape(train_x.shape[0], 3, img_rows, img_cols)\n",
    "    test_x = test_x.reshape(test_x.shape[0], 3, img_rows, img_cols)\n",
    "    eval_x = eval_x.reshape(eval_x.shape[0], 3, img_rows, img_cols)\n",
    "    input_shape = (3, img_rows, img_cols)\n",
    "else:\n",
    "    train_x = train_x.reshape(train_x.shape[0], img_rows, img_cols, 3)\n",
    "    eval_x = eval_x.reshape(eval_x.shape[0], img_rows, img_cols, 3)\n",
    "    test_x = test_x.reshape(test_x.shape[0], img_rows, img_cols, 3)\n",
    "    input_shape = (img_rows, img_cols, 3)"
   ]
  },
  {
   "cell_type": "code",
   "execution_count": 0,
   "metadata": {
    "colab": {},
    "colab_type": "code",
    "id": "cMXF1_AuTIF-"
   },
   "outputs": [],
   "source": []
  },
  {
   "cell_type": "code",
   "execution_count": 0,
   "metadata": {
    "colab": {
     "base_uri": "https://localhost:8080/",
     "height": 85
    },
    "colab_type": "code",
    "executionInfo": {
     "elapsed": 4518,
     "status": "ok",
     "timestamp": 1555651327876,
     "user": {
      "displayName": "sailusha pvsn",
      "photoUrl": "",
      "userId": "15498208439424985552"
     },
     "user_tz": -330
    },
    "id": "iPaZpg91_Gjb",
    "outputId": "356b2848-c447-4f40-ac41-02c8ea4752fa"
   },
   "outputs": [
    {
     "name": "stdout",
     "output_type": "stream",
     "text": [
      "x_train shape: (4800, 224, 224, 3)\n",
      "4800 train samples\n",
      "1600 test samples\n",
      "1600 validation samples\n"
     ]
    }
   ],
   "source": [
    "train_x = train_x.astype('float32')\n",
    "test_x = test_x.astype('float32')\n",
    "eval_x=eval_x.astype('float32')\n",
    "train_x /= 255\n",
    "test_x /= 255\n",
    "eval_x/=255\n",
    "print('x_train shape:', train_x.shape)\n",
    "print(train_x.shape[0], 'train samples')\n",
    "print(test_x.shape[0], 'test samples')\n",
    "print(eval_x.shape[0],'validation samples')"
   ]
  },
  {
   "cell_type": "code",
   "execution_count": 0,
   "metadata": {
    "colab": {},
    "colab_type": "code",
    "id": "A9GxV8WGPHnW"
   },
   "outputs": [],
   "source": [
    "# convert class vectors to binary class matrices\n",
    "train_y1 = keras.utils.to_categorical(train_y1, 16)\n",
    "test_y = keras.utils.to_categorical(test_y, 16)\n",
    "eval_y = keras.utils.to_categorical(eval_y, 16)"
   ]
  },
  {
   "cell_type": "code",
   "execution_count": 0,
   "metadata": {
    "colab": {},
    "colab_type": "code",
    "id": "ETGYlk2Ek51V"
   },
   "outputs": [],
   "source": [
    "# convert class vectors to binary class matrices\n",
    "train_y = keras.utils.to_categorical(train_y, 16)\n",
    "test_y = keras.utils.to_categorical(test_y, 16)\n",
    "eval_y = keras.utils.to_categorical(eval_y, 16)"
   ]
  },
  {
   "cell_type": "code",
   "execution_count": 0,
   "metadata": {
    "colab": {
     "base_uri": "https://localhost:8080/",
     "height": 904
    },
    "colab_type": "code",
    "executionInfo": {
     "elapsed": 4264,
     "status": "ok",
     "timestamp": 1555651432551,
     "user": {
      "displayName": "sailusha pvsn",
      "photoUrl": "",
      "userId": "15498208439424985552"
     },
     "user_tz": -330
    },
    "id": "WThAv-YHQfil",
    "outputId": "d4ea738a-d24f-4465-a564-e2ab5bbcbb05"
   },
   "outputs": [
    {
     "name": "stdout",
     "output_type": "stream",
     "text": [
      "WARNING:tensorflow:From /usr/local/lib/python3.6/dist-packages/tensorflow/python/framework/op_def_library.py:263: colocate_with (from tensorflow.python.framework.ops) is deprecated and will be removed in a future version.\n",
      "Instructions for updating:\n",
      "Colocations handled automatically by placer.\n",
      "Downloading data from https://github.com/fchollet/deep-learning-models/releases/download/v0.1/vgg16_weights_tf_dim_ordering_tf_kernels_notop.h5\n",
      "58892288/58889256 [==============================] - 1s 0us/step\n",
      "_________________________________________________________________\n",
      "Layer (type)                 Output Shape              Param #   \n",
      "=================================================================\n",
      "input_1 (InputLayer)         (None, 224, 224, 3)       0         \n",
      "_________________________________________________________________\n",
      "block1_conv1 (Conv2D)        (None, 224, 224, 64)      1792      \n",
      "_________________________________________________________________\n",
      "block1_conv2 (Conv2D)        (None, 224, 224, 64)      36928     \n",
      "_________________________________________________________________\n",
      "block1_pool (MaxPooling2D)   (None, 112, 112, 64)      0         \n",
      "_________________________________________________________________\n",
      "block2_conv1 (Conv2D)        (None, 112, 112, 128)     73856     \n",
      "_________________________________________________________________\n",
      "block2_conv2 (Conv2D)        (None, 112, 112, 128)     147584    \n",
      "_________________________________________________________________\n",
      "block2_pool (MaxPooling2D)   (None, 56, 56, 128)       0         \n",
      "_________________________________________________________________\n",
      "block3_conv1 (Conv2D)        (None, 56, 56, 256)       295168    \n",
      "_________________________________________________________________\n",
      "block3_conv2 (Conv2D)        (None, 56, 56, 256)       590080    \n",
      "_________________________________________________________________\n",
      "block3_conv3 (Conv2D)        (None, 56, 56, 256)       590080    \n",
      "_________________________________________________________________\n",
      "block3_pool (MaxPooling2D)   (None, 28, 28, 256)       0         \n",
      "_________________________________________________________________\n",
      "block4_conv1 (Conv2D)        (None, 28, 28, 512)       1180160   \n",
      "_________________________________________________________________\n",
      "block4_conv2 (Conv2D)        (None, 28, 28, 512)       2359808   \n",
      "_________________________________________________________________\n",
      "block4_conv3 (Conv2D)        (None, 28, 28, 512)       2359808   \n",
      "_________________________________________________________________\n",
      "block4_pool (MaxPooling2D)   (None, 14, 14, 512)       0         \n",
      "_________________________________________________________________\n",
      "block5_conv1 (Conv2D)        (None, 14, 14, 512)       2359808   \n",
      "_________________________________________________________________\n",
      "block5_conv2 (Conv2D)        (None, 14, 14, 512)       2359808   \n",
      "_________________________________________________________________\n",
      "block5_conv3 (Conv2D)        (None, 14, 14, 512)       2359808   \n",
      "_________________________________________________________________\n",
      "block5_pool (MaxPooling2D)   (None, 7, 7, 512)         0         \n",
      "=================================================================\n",
      "Total params: 14,714,688\n",
      "Trainable params: 14,714,688\n",
      "Non-trainable params: 0\n",
      "_________________________________________________________________\n",
      "None\n"
     ]
    }
   ],
   "source": [
    "vgg_conv=VGG16(include_top=False,weights='imagenet',input_shape=(img_rows, img_cols, 3))\n",
    "print(vgg_conv.summary())"
   ]
  },
  {
   "cell_type": "code",
   "execution_count": 0,
   "metadata": {
    "colab": {
     "base_uri": "https://localhost:8080/",
     "height": 340
    },
    "colab_type": "code",
    "executionInfo": {
     "elapsed": 853,
     "status": "ok",
     "timestamp": 1555651437161,
     "user": {
      "displayName": "sailusha pvsn",
      "photoUrl": "",
      "userId": "15498208439424985552"
     },
     "user_tz": -330
    },
    "id": "Ak2z_rNnQljF",
    "outputId": "6d2bdbfc-0616-48f5-e582-7068ccd78429"
   },
   "outputs": [
    {
     "name": "stdout",
     "output_type": "stream",
     "text": [
      "<keras.engine.input_layer.InputLayer object at 0x7f1348549ba8> False\n",
      "<keras.layers.convolutional.Conv2D object at 0x7f12f10992e8> False\n",
      "<keras.layers.convolutional.Conv2D object at 0x7f12f1099198> False\n",
      "<keras.layers.pooling.MaxPooling2D object at 0x7f12f10b5c88> False\n",
      "<keras.layers.convolutional.Conv2D object at 0x7f12f10b5a58> False\n",
      "<keras.layers.convolutional.Conv2D object at 0x7f12f0e553c8> False\n",
      "<keras.layers.pooling.MaxPooling2D object at 0x7f12f0deeeb8> False\n",
      "<keras.layers.convolutional.Conv2D object at 0x7f12f0deeb70> False\n",
      "<keras.layers.convolutional.Conv2D object at 0x7f12f0e199e8> False\n",
      "<keras.layers.convolutional.Conv2D object at 0x7f12f0dc4198> False\n",
      "<keras.layers.pooling.MaxPooling2D object at 0x7f12f0ddca20> False\n",
      "<keras.layers.convolutional.Conv2D object at 0x7f12f0ddc588> False\n",
      "<keras.layers.convolutional.Conv2D object at 0x7f12f0d87240> False\n",
      "<keras.layers.convolutional.Conv2D object at 0x7f12f0d9c5f8> False\n",
      "<keras.layers.pooling.MaxPooling2D object at 0x7f12f0d49518> False\n",
      "<keras.layers.convolutional.Conv2D object at 0x7f12f0d493c8> True\n",
      "<keras.layers.convolutional.Conv2D object at 0x7f12f0cf61d0> True\n",
      "<keras.layers.convolutional.Conv2D object at 0x7f12f0d0d7f0> True\n",
      "<keras.layers.pooling.MaxPooling2D object at 0x7f12f0d26828> True\n"
     ]
    }
   ],
   "source": [
    "# Freeze the layers except the last 4 layers\n",
    "for layer in vgg_conv.layers[:-4]:\n",
    "    layer.trainable = False\n",
    " #Check the trainable status of the individual layers\n",
    "for layer in vgg_conv.layers:\n",
    "    print(layer, layer.trainable)"
   ]
  },
  {
   "cell_type": "code",
   "execution_count": 0,
   "metadata": {
    "colab": {},
    "colab_type": "code",
    "id": "9Q4Eoo2PrJIO"
   },
   "outputs": [],
   "source": [
    "#plot_model(model, to_file='model_plot.png', show_shapes=True, show_layer_names=True)"
   ]
  },
  {
   "cell_type": "code",
   "execution_count": 0,
   "metadata": {
    "colab": {},
    "colab_type": "code",
    "id": "YsB_Zu88S1K-"
   },
   "outputs": [],
   "source": []
  },
  {
   "cell_type": "code",
   "execution_count": 0,
   "metadata": {
    "colab": {
     "base_uri": "https://localhost:8080/",
     "height": 306
    },
    "colab_type": "code",
    "executionInfo": {
     "elapsed": 993,
     "status": "ok",
     "timestamp": 1555435241578,
     "user": {
      "displayName": "sailusha pvsn",
      "photoUrl": "",
      "userId": "15498208439424985552"
     },
     "user_tz": -330
    },
    "id": "g8GLU6W9qo-a",
    "outputId": "8464ca37-b95f-437e-9bcf-80a1f4a1233f"
   },
   "outputs": [
    {
     "name": "stdout",
     "output_type": "stream",
     "text": [
      "_________________________________________________________________\n",
      "Layer (type)                 Output Shape              Param #   \n",
      "=================================================================\n",
      "vgg16 (Model)                (None, 7, 7, 512)         14714688  \n",
      "_________________________________________________________________\n",
      "flatten_2 (Flatten)          (None, 25088)             0         \n",
      "_________________________________________________________________\n",
      "dense_3 (Dense)              (None, 100)               2508900   \n",
      "_________________________________________________________________\n",
      "dropout_2 (Dropout)          (None, 100)               0         \n",
      "_________________________________________________________________\n",
      "dense_4 (Dense)              (None, 16)                1616      \n",
      "=================================================================\n",
      "Total params: 17,225,204\n",
      "Trainable params: 9,589,940\n",
      "Non-trainable params: 7,635,264\n",
      "_________________________________________________________________\n"
     ]
    }
   ],
   "source": [
    "model1.summary()"
   ]
  },
  {
   "cell_type": "code",
   "execution_count": 0,
   "metadata": {
    "colab": {},
    "colab_type": "code",
    "id": "BpQ_rcCRKEry"
   },
   "outputs": [],
   "source": [
    "model1.load_weights('./gdrive/My Drive/my_model_weights4.h5')"
   ]
  },
  {
   "cell_type": "code",
   "execution_count": 0,
   "metadata": {
    "colab": {
     "base_uri": "https://localhost:8080/",
     "height": 88
    },
    "colab_type": "code",
    "executionInfo": {
     "elapsed": 825,
     "status": "ok",
     "timestamp": 1555651548546,
     "user": {
      "displayName": "sailusha pvsn",
      "photoUrl": "",
      "userId": "15498208439424985552"
     },
     "user_tz": -330
    },
    "id": "qVVKHlp-O1iw",
    "outputId": "e00c1b71-50c7-4dd0-c46b-076ec9631e91"
   },
   "outputs": [
    {
     "name": "stdout",
     "output_type": "stream",
     "text": [
      "WARNING:tensorflow:From /usr/local/lib/python3.6/dist-packages/keras/backend/tensorflow_backend.py:3445: calling dropout (from tensorflow.python.ops.nn_ops) with keep_prob is deprecated and will be removed in a future version.\n",
      "Instructions for updating:\n",
      "Please use `rate` instead of `keep_prob`. Rate should be set to `rate = 1 - keep_prob`.\n"
     ]
    }
   ],
   "source": [
    "from keras import models\n",
    "from keras import layers\n",
    "from keras import optimizers\n",
    " \n",
    "# Create the model\n",
    "model1 = models.Sequential()\n",
    " \n",
    "# Add the vgg convolutional base model\n",
    "model1.add(vgg_conv)\n",
    " \n",
    "# Add new layers\n",
    "model1.add(layers.Flatten(input_shape=train_x.shape[1:]))\n",
    "model1.add(layers.Dense(100, activation='relu'))\n",
    "model1.add(layers.Dropout(0.7))\n",
    "model1.add(layers.Dense(16, activation='softmax'))\n",
    "model1.compile(loss=keras.losses.categorical_crossentropy,\n",
    "              optimizer=keras.optimizers.Adam(lr=1e-4, beta_1=0.9, beta_2=0.999, epsilon=None, decay=0.0, amsgrad=False),\n",
    "              metrics=['accuracy'])"
   ]
  },
  {
   "cell_type": "code",
   "execution_count": 0,
   "metadata": {
    "colab": {
     "base_uri": "https://localhost:8080/",
     "height": 748
    },
    "colab_type": "code",
    "executionInfo": {
     "elapsed": 700025,
     "status": "ok",
     "timestamp": 1555505423267,
     "user": {
      "displayName": "sailusha pvsn",
      "photoUrl": "",
      "userId": "15498208439424985552"
     },
     "user_tz": -330
    },
    "id": "0aP5lOM1O1iy",
    "outputId": "7f05b1d6-1346-48bf-a917-6593b5490b82"
   },
   "outputs": [
    {
     "name": "stdout",
     "output_type": "stream",
     "text": [
      "Train on 4800 samples, validate on 1600 samples\n",
      "Epoch 1/20\n",
      "4800/4800 [==============================] - 35s 7ms/step - loss: 0.7845 - acc: 0.7560 - val_loss: 1.0690 - val_acc: 0.7000\n",
      "Epoch 2/20\n",
      "4800/4800 [==============================] - 35s 7ms/step - loss: 0.6915 - acc: 0.7746 - val_loss: 1.1667 - val_acc: 0.7037\n",
      "Epoch 3/20\n",
      "4800/4800 [==============================] - 34s 7ms/step - loss: 0.6284 - acc: 0.7979 - val_loss: 1.1465 - val_acc: 0.7113\n",
      "Epoch 4/20\n",
      "4800/4800 [==============================] - 35s 7ms/step - loss: 0.5836 - acc: 0.8081 - val_loss: 1.1591 - val_acc: 0.7050\n",
      "Epoch 5/20\n",
      "4800/4800 [==============================] - 34s 7ms/step - loss: 0.5181 - acc: 0.8292 - val_loss: 1.2049 - val_acc: 0.7181\n",
      "Epoch 6/20\n",
      "4800/4800 [==============================] - 34s 7ms/step - loss: 0.4898 - acc: 0.8419 - val_loss: 1.1649 - val_acc: 0.7212\n",
      "Epoch 7/20\n",
      "4800/4800 [==============================] - 35s 7ms/step - loss: 0.4063 - acc: 0.8662 - val_loss: 1.3201 - val_acc: 0.7188\n",
      "Epoch 8/20\n",
      "4800/4800 [==============================] - 35s 7ms/step - loss: 0.3853 - acc: 0.8744 - val_loss: 1.3104 - val_acc: 0.7125\n",
      "Epoch 9/20\n",
      "4800/4800 [==============================] - 35s 7ms/step - loss: 0.3611 - acc: 0.8840 - val_loss: 1.3553 - val_acc: 0.7225\n",
      "Epoch 10/20\n",
      "4800/4800 [==============================] - 35s 7ms/step - loss: 0.3269 - acc: 0.8900 - val_loss: 1.3357 - val_acc: 0.7169\n",
      "Epoch 11/20\n",
      "4800/4800 [==============================] - 34s 7ms/step - loss: 0.3176 - acc: 0.8860 - val_loss: 1.3581 - val_acc: 0.7188\n",
      "Epoch 12/20\n",
      "4800/4800 [==============================] - 35s 7ms/step - loss: 0.2812 - acc: 0.9023 - val_loss: 1.3085 - val_acc: 0.7181\n",
      "Epoch 13/20\n",
      "4800/4800 [==============================] - 35s 7ms/step - loss: 0.2656 - acc: 0.9129 - val_loss: 1.4498 - val_acc: 0.7212\n",
      "Epoch 14/20\n",
      "4800/4800 [==============================] - 35s 7ms/step - loss: 0.2389 - acc: 0.9200 - val_loss: 1.4360 - val_acc: 0.7294\n",
      "Epoch 15/20\n",
      "4800/4800 [==============================] - 35s 7ms/step - loss: 0.2458 - acc: 0.9194 - val_loss: 1.3721 - val_acc: 0.7319\n",
      "Epoch 16/20\n",
      "4800/4800 [==============================] - 35s 7ms/step - loss: 0.2193 - acc: 0.9262 - val_loss: 1.5827 - val_acc: 0.7150\n",
      "Epoch 17/20\n",
      "4800/4800 [==============================] - 34s 7ms/step - loss: 0.2183 - acc: 0.9258 - val_loss: 1.3379 - val_acc: 0.7150\n",
      "Epoch 18/20\n",
      "4800/4800 [==============================] - 34s 7ms/step - loss: 0.1935 - acc: 0.9340 - val_loss: 1.5185 - val_acc: 0.7262\n",
      "Epoch 19/20\n",
      "4800/4800 [==============================] - 35s 7ms/step - loss: 0.1723 - acc: 0.9431 - val_loss: 1.5216 - val_acc: 0.7225\n",
      "Epoch 20/20\n",
      "4800/4800 [==============================] - 35s 7ms/step - loss: 0.1733 - acc: 0.9412 - val_loss: 1.6035 - val_acc: 0.7225\n",
      "Test loss: 1.5123652857542038\n",
      "Test accuracy: 0.74625\n"
     ]
    }
   ],
   "source": [
    "history=model1.fit(train_x, train_y,\n",
    "            batch_size=batch_size,\n",
    "          epochs=20,\n",
    "          verbose=1,\n",
    "          validation_data=(eval_x, eval_y))\n",
    "score = model1.evaluate(test_x, test_y, verbose=0)\n",
    "print('Test loss:', score[0])\n",
    "print('Test accuracy:', score[1])"
   ]
  },
  {
   "cell_type": "code",
   "execution_count": 0,
   "metadata": {
    "colab": {},
    "colab_type": "code",
    "id": "OyLvVKP8DpDf"
   },
   "outputs": [],
   "source": [
    "model1.save('finalmodel.h5')"
   ]
  },
  {
   "cell_type": "code",
   "execution_count": 0,
   "metadata": {
    "colab": {},
    "colab_type": "code",
    "id": "Pd7ewhQ0FEcM"
   },
   "outputs": [],
   "source": [
    "model1.load_weights('./gdrive/My Drive/my_model_weights4.h5')"
   ]
  },
  {
   "cell_type": "code",
   "execution_count": 0,
   "metadata": {
    "colab": {},
    "colab_type": "code",
    "id": "XIJeUaPWO1i5"
   },
   "outputs": [],
   "source": [
    "default_image_size = tuple((224, 224))"
   ]
  },
  {
   "cell_type": "code",
   "execution_count": 0,
   "metadata": {
    "colab": {},
    "colab_type": "code",
    "id": "QczFpKtRO1i9"
   },
   "outputs": [],
   "source": [
    "from keras.preprocessing.image import img_to_array"
   ]
  },
  {
   "cell_type": "code",
   "execution_count": 0,
   "metadata": {
    "colab": {},
    "colab_type": "code",
    "id": "bFOmOgvkO1jD"
   },
   "outputs": [],
   "source": [
    "image_list1 = []\n",
    "xx='./gdrive/My Drive/example/presentation.tif'\n",
    "image_list1.append(convert_image_to_array(xx))"
   ]
  },
  {
   "cell_type": "code",
   "execution_count": 0,
   "metadata": {
    "colab": {},
    "colab_type": "code",
    "id": "ND4MiKSzO1jM"
   },
   "outputs": [],
   "source": [
    "def convert_image_to_array(xx):\n",
    "    try:\n",
    "        image= cv2.imread(xx)\n",
    "        if image is not None :\n",
    "            image = cv2.resize(image, default_image_size)   #scaling the image\n",
    "            return img_to_array(image)\n",
    "        else :\n",
    "            return np.array([])\n",
    "    except Exception as e:\n",
    "        print(f\"Error : {e}\")\n",
    "        return None"
   ]
  },
  {
   "cell_type": "code",
   "execution_count": 0,
   "metadata": {
    "colab": {},
    "colab_type": "code",
    "id": "QQ57IESUO1jP"
   },
   "outputs": [],
   "source": [
    "np_image_list= np.array(image_list1,dtype=np.float16) / 255.0"
   ]
  },
  {
   "cell_type": "code",
   "execution_count": 0,
   "metadata": {
    "colab": {},
    "colab_type": "code",
    "id": "8aja24tgO1jd"
   },
   "outputs": [],
   "source": [
    "x2=model1.predict(np_image_list)"
   ]
  },
  {
   "cell_type": "code",
   "execution_count": 0,
   "metadata": {
    "colab": {
     "base_uri": "https://localhost:8080/",
     "height": 102
    },
    "colab_type": "code",
    "executionInfo": {
     "elapsed": 835,
     "status": "ok",
     "timestamp": 1555652045258,
     "user": {
      "displayName": "sailusha pvsn",
      "photoUrl": "",
      "userId": "15498208439424985552"
     },
     "user_tz": -330
    },
    "id": "EMGgM-KmO1je",
    "outputId": "d10b7a85-9071-4291-c09f-5c03f308ad3e"
   },
   "outputs": [
    {
     "data": {
      "text/plain": [
       "array([[1.2471306e-09, 6.8460926e-10, 5.9738678e-13, 4.2925163e-11,\n",
       "        3.7845521e-10, 1.2012912e-08, 9.8804365e-10, 1.1188010e-10,\n",
       "        1.4291354e-10, 1.5668912e-10, 1.1686366e-08, 4.5019516e-11,\n",
       "        1.0000000e+00, 1.5276308e-10, 4.9790472e-10, 3.0336011e-08]],\n",
       "      dtype=float32)"
      ]
     },
     "execution_count": 29,
     "metadata": {
      "tags": []
     },
     "output_type": "execute_result"
    }
   ],
   "source": [
    "x2"
   ]
  },
  {
   "cell_type": "code",
   "execution_count": 0,
   "metadata": {
    "colab": {},
    "colab_type": "code",
    "id": "Svncbn2mO1jg"
   },
   "outputs": [],
   "source": [
    "class_name={0:'letter',1:'form',2:'email',3:'handwritten',4:'advertisement',5:'scientific report',6:'scientific publication',7:'specification',8:'file folder',9:'news article',10:'budget',11:'invoice',12:'presentation',13:'questionnaire',14:'resume',15:'memo'}"
   ]
  },
  {
   "cell_type": "code",
   "execution_count": 0,
   "metadata": {
    "colab": {
     "base_uri": "https://localhost:8080/",
     "height": 34
    },
    "colab_type": "code",
    "executionInfo": {
     "elapsed": 795,
     "status": "ok",
     "timestamp": 1555652050347,
     "user": {
      "displayName": "sailusha pvsn",
      "photoUrl": "",
      "userId": "15498208439424985552"
     },
     "user_tz": -330
    },
    "id": "YowV9hrJO1jr",
    "outputId": "4469ab93-165e-44dc-efca-4dcb6b503fa5"
   },
   "outputs": [
    {
     "name": "stdout",
     "output_type": "stream",
     "text": [
      "presentation\n"
     ]
    }
   ],
   "source": [
    "n=np.argmax(x2)\n",
    "for k in class_name:\n",
    "    if n==k:\n",
    "      print(class_name[k])"
   ]
  },
  {
   "cell_type": "code",
   "execution_count": 0,
   "metadata": {
    "colab": {},
    "colab_type": "code",
    "id": "AFeTVS3SGGTY"
   },
   "outputs": [],
   "source": [
    "from keras.models import load_model"
   ]
  },
  {
   "cell_type": "code",
   "execution_count": 0,
   "metadata": {
    "colab": {},
    "colab_type": "code",
    "id": "HURh7r_yFusY"
   },
   "outputs": [],
   "source": [
    "predict=load_model('./finalmodel.h5')"
   ]
  },
  {
   "cell_type": "code",
   "execution_count": 0,
   "metadata": {
    "colab": {},
    "colab_type": "code",
    "id": "Twsw7A6lGJhq"
   },
   "outputs": [],
   "source": [
    "x=predict.predict(np_image_list)"
   ]
  },
  {
   "cell_type": "code",
   "execution_count": 0,
   "metadata": {
    "colab": {
     "base_uri": "https://localhost:8080/",
     "height": 102
    },
    "colab_type": "code",
    "executionInfo": {
     "elapsed": 820,
     "status": "ok",
     "timestamp": 1555652257946,
     "user": {
      "displayName": "sailusha pvsn",
      "photoUrl": "",
      "userId": "15498208439424985552"
     },
     "user_tz": -330
    },
    "id": "QxEjQm_hGZqr",
    "outputId": "0dea0d19-ec07-4302-8100-43aa67c117ab"
   },
   "outputs": [
    {
     "data": {
      "text/plain": [
       "array([[1.2471306e-09, 6.8460926e-10, 5.9738678e-13, 4.2925163e-11,\n",
       "        3.7845521e-10, 1.2012912e-08, 9.8804365e-10, 1.1188010e-10,\n",
       "        1.4291354e-10, 1.5668912e-10, 1.1686366e-08, 4.5019516e-11,\n",
       "        1.0000000e+00, 1.5276308e-10, 4.9790472e-10, 3.0336011e-08]],\n",
       "      dtype=float32)"
      ]
     },
     "execution_count": 36,
     "metadata": {
      "tags": []
     },
     "output_type": "execute_result"
    }
   ],
   "source": [
    "x"
   ]
  },
  {
   "cell_type": "code",
   "execution_count": 0,
   "metadata": {
    "colab": {
     "base_uri": "https://localhost:8080/",
     "height": 34
    },
    "colab_type": "code",
    "executionInfo": {
     "elapsed": 805,
     "status": "ok",
     "timestamp": 1555652275286,
     "user": {
      "displayName": "sailusha pvsn",
      "photoUrl": "",
      "userId": "15498208439424985552"
     },
     "user_tz": -330
    },
    "id": "1FZMPvfkGbFE",
    "outputId": "6514b056-725b-4533-cb7b-cab5439c97a0"
   },
   "outputs": [
    {
     "name": "stdout",
     "output_type": "stream",
     "text": [
      "presentation\n"
     ]
    }
   ],
   "source": [
    "n=np.argmax(x)\n",
    "for k in class_name:\n",
    "    if n==k:\n",
    "      print(class_name[k])"
   ]
  }
 ],
 "metadata": {
  "accelerator": "GPU",
  "colab": {
   "collapsed_sections": [],
   "name": "finalkeras.ipynb",
   "provenance": [],
   "version": "0.3.2"
  },
  "kernelspec": {
   "display_name": "Python 3",
   "language": "python",
   "name": "python3"
  },
  "language_info": {
   "codemirror_mode": {
    "name": "ipython",
    "version": 3
   },
   "file_extension": ".py",
   "mimetype": "text/x-python",
   "name": "python",
   "nbconvert_exporter": "python",
   "pygments_lexer": "ipython3",
   "version": "3.6.5"
  }
 },
 "nbformat": 4,
 "nbformat_minor": 1
}
